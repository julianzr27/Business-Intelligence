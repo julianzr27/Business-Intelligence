{
  "nbformat": 4,
  "nbformat_minor": 0,
  "metadata": {
    "colab": {
      "provenance": [],
      "include_colab_link": true
    },
    "kernelspec": {
      "name": "python3",
      "display_name": "Python 3"
    },
    "language_info": {
      "name": "python"
    }
  },
  "cells": [
    {
      "cell_type": "markdown",
      "metadata": {
        "id": "view-in-github",
        "colab_type": "text"
      },
      "source": [
        "<a href=\"https://colab.research.google.com/github/julianzr27/Business-Intelligence/blob/main/Reto_1_Modelo_Naive_Bayes.ipynb\" target=\"_parent\"><img src=\"https://colab.research.google.com/assets/colab-badge.svg\" alt=\"Open In Colab\"/></a>"
      ]
    },
    {
      "cell_type": "markdown",
      "source": [
        "# **Reto 1 – Modelos de Clasificación (Naive Bayes)**"
      ],
      "metadata": {
        "id": "eM9tFwztGIRQ"
      }
    },
    {
      "cell_type": "markdown",
      "source": [
        "**0. Se procede a cargar las librerías de trabajo**"
      ],
      "metadata": {
        "id": "Lea--__GVLUm"
      }
    },
    {
      "cell_type": "code",
      "execution_count": null,
      "metadata": {
        "id": "uCjxLk6fS1ap"
      },
      "outputs": [],
      "source": [
        "import numpy as np\n",
        "import pandas as pd"
      ]
    },
    {
      "cell_type": "markdown",
      "source": [
        "**1. Cargar la base de datos**"
      ],
      "metadata": {
        "id": "Dg2x3eATVdyF"
      }
    },
    {
      "cell_type": "code",
      "source": [
        "nxl= '/content/1. BD1_Longitudinal Survey_Int.xlsx'\n",
        "XDB = pd.read_excel(nxl)\n",
        "\n",
        "total_respondents = len(XDB)\n",
        "\n",
        "print(f\"El número total de personas que respondieron fue: {total_respondents}\")"
      ],
      "metadata": {
        "colab": {
          "base_uri": "https://localhost:8080/"
        },
        "id": "7pTDQLDiVglV",
        "outputId": "77662e86-d029-420b-d245-0d9e271c2de3"
      },
      "execution_count": null,
      "outputs": [
        {
          "output_type": "stream",
          "name": "stdout",
          "text": [
            "El número total de personas que respondieron fue: 12686\n"
          ]
        }
      ]
    },
    {
      "cell_type": "markdown",
      "source": [
        "***1.1. Se definen las variables de interés***"
      ],
      "metadata": {
        "id": "hAXYJaguoqTG"
      }
    },
    {
      "cell_type": "code",
      "source": [
        "#Se seleccionan las variables de interés\n",
        "XDB= XDB[['Age','Urban','Mother_Edu','Father_Edu','FamilySize','Self_Esteem','Height','Weight','Income']]\n",
        "XDB.head(10)"
      ],
      "metadata": {
        "colab": {
          "base_uri": "https://localhost:8080/",
          "height": 363
        },
        "id": "zHPjkSgPoqku",
        "outputId": "8d4cc746-4ec1-4411-bdc7-8253d315f1c1"
      },
      "execution_count": null,
      "outputs": [
        {
          "output_type": "execute_result",
          "data": {
            "text/plain": [
              "   Age  Urban  Mother_Edu  Father_Edu  FamilySize  Self_Esteem  Height  \\\n",
              "0   21    1.0         8.0         8.0           5          NaN    65.0   \n",
              "1   20    1.0         5.0         8.0           5         16.0    62.0   \n",
              "2   18    1.0        10.0        12.0           5         20.0     NaN   \n",
              "3   17    1.0        11.0        12.0           5          NaN    67.0   \n",
              "4   20    1.0        12.0        12.0           4         23.0    63.0   \n",
              "5   19    1.0        12.0        12.0           4         27.0    64.0   \n",
              "6   15    1.0        12.0        12.0           3         26.0    65.0   \n",
              "7   21    1.0         9.0         6.0           3         23.0    65.0   \n",
              "8   16    1.0        12.0        10.0           6         26.0    66.0   \n",
              "9   19    1.0        12.0        12.0           3         19.0    66.0   \n",
              "\n",
              "   Weight   Income  \n",
              "0     NaN      NaN  \n",
              "1   120.0      0.0  \n",
              "2     NaN      0.0  \n",
              "3   110.0      NaN  \n",
              "4   130.0      NaN  \n",
              "5   200.0  40000.0  \n",
              "6   131.0  25000.0  \n",
              "7   179.0  27400.0  \n",
              "8   145.0  52000.0  \n",
              "9   115.0      NaN  "
            ],
            "text/html": [
              "\n",
              "  <div id=\"df-960075b1-09d6-4f55-85e4-0b0554b46b61\" class=\"colab-df-container\">\n",
              "    <div>\n",
              "<style scoped>\n",
              "    .dataframe tbody tr th:only-of-type {\n",
              "        vertical-align: middle;\n",
              "    }\n",
              "\n",
              "    .dataframe tbody tr th {\n",
              "        vertical-align: top;\n",
              "    }\n",
              "\n",
              "    .dataframe thead th {\n",
              "        text-align: right;\n",
              "    }\n",
              "</style>\n",
              "<table border=\"1\" class=\"dataframe\">\n",
              "  <thead>\n",
              "    <tr style=\"text-align: right;\">\n",
              "      <th></th>\n",
              "      <th>Age</th>\n",
              "      <th>Urban</th>\n",
              "      <th>Mother_Edu</th>\n",
              "      <th>Father_Edu</th>\n",
              "      <th>FamilySize</th>\n",
              "      <th>Self_Esteem</th>\n",
              "      <th>Height</th>\n",
              "      <th>Weight</th>\n",
              "      <th>Income</th>\n",
              "    </tr>\n",
              "  </thead>\n",
              "  <tbody>\n",
              "    <tr>\n",
              "      <th>0</th>\n",
              "      <td>21</td>\n",
              "      <td>1.0</td>\n",
              "      <td>8.0</td>\n",
              "      <td>8.0</td>\n",
              "      <td>5</td>\n",
              "      <td>NaN</td>\n",
              "      <td>65.0</td>\n",
              "      <td>NaN</td>\n",
              "      <td>NaN</td>\n",
              "    </tr>\n",
              "    <tr>\n",
              "      <th>1</th>\n",
              "      <td>20</td>\n",
              "      <td>1.0</td>\n",
              "      <td>5.0</td>\n",
              "      <td>8.0</td>\n",
              "      <td>5</td>\n",
              "      <td>16.0</td>\n",
              "      <td>62.0</td>\n",
              "      <td>120.0</td>\n",
              "      <td>0.0</td>\n",
              "    </tr>\n",
              "    <tr>\n",
              "      <th>2</th>\n",
              "      <td>18</td>\n",
              "      <td>1.0</td>\n",
              "      <td>10.0</td>\n",
              "      <td>12.0</td>\n",
              "      <td>5</td>\n",
              "      <td>20.0</td>\n",
              "      <td>NaN</td>\n",
              "      <td>NaN</td>\n",
              "      <td>0.0</td>\n",
              "    </tr>\n",
              "    <tr>\n",
              "      <th>3</th>\n",
              "      <td>17</td>\n",
              "      <td>1.0</td>\n",
              "      <td>11.0</td>\n",
              "      <td>12.0</td>\n",
              "      <td>5</td>\n",
              "      <td>NaN</td>\n",
              "      <td>67.0</td>\n",
              "      <td>110.0</td>\n",
              "      <td>NaN</td>\n",
              "    </tr>\n",
              "    <tr>\n",
              "      <th>4</th>\n",
              "      <td>20</td>\n",
              "      <td>1.0</td>\n",
              "      <td>12.0</td>\n",
              "      <td>12.0</td>\n",
              "      <td>4</td>\n",
              "      <td>23.0</td>\n",
              "      <td>63.0</td>\n",
              "      <td>130.0</td>\n",
              "      <td>NaN</td>\n",
              "    </tr>\n",
              "    <tr>\n",
              "      <th>5</th>\n",
              "      <td>19</td>\n",
              "      <td>1.0</td>\n",
              "      <td>12.0</td>\n",
              "      <td>12.0</td>\n",
              "      <td>4</td>\n",
              "      <td>27.0</td>\n",
              "      <td>64.0</td>\n",
              "      <td>200.0</td>\n",
              "      <td>40000.0</td>\n",
              "    </tr>\n",
              "    <tr>\n",
              "      <th>6</th>\n",
              "      <td>15</td>\n",
              "      <td>1.0</td>\n",
              "      <td>12.0</td>\n",
              "      <td>12.0</td>\n",
              "      <td>3</td>\n",
              "      <td>26.0</td>\n",
              "      <td>65.0</td>\n",
              "      <td>131.0</td>\n",
              "      <td>25000.0</td>\n",
              "    </tr>\n",
              "    <tr>\n",
              "      <th>7</th>\n",
              "      <td>21</td>\n",
              "      <td>1.0</td>\n",
              "      <td>9.0</td>\n",
              "      <td>6.0</td>\n",
              "      <td>3</td>\n",
              "      <td>23.0</td>\n",
              "      <td>65.0</td>\n",
              "      <td>179.0</td>\n",
              "      <td>27400.0</td>\n",
              "    </tr>\n",
              "    <tr>\n",
              "      <th>8</th>\n",
              "      <td>16</td>\n",
              "      <td>1.0</td>\n",
              "      <td>12.0</td>\n",
              "      <td>10.0</td>\n",
              "      <td>6</td>\n",
              "      <td>26.0</td>\n",
              "      <td>66.0</td>\n",
              "      <td>145.0</td>\n",
              "      <td>52000.0</td>\n",
              "    </tr>\n",
              "    <tr>\n",
              "      <th>9</th>\n",
              "      <td>19</td>\n",
              "      <td>1.0</td>\n",
              "      <td>12.0</td>\n",
              "      <td>12.0</td>\n",
              "      <td>3</td>\n",
              "      <td>19.0</td>\n",
              "      <td>66.0</td>\n",
              "      <td>115.0</td>\n",
              "      <td>NaN</td>\n",
              "    </tr>\n",
              "  </tbody>\n",
              "</table>\n",
              "</div>\n",
              "    <div class=\"colab-df-buttons\">\n",
              "\n",
              "  <div class=\"colab-df-container\">\n",
              "    <button class=\"colab-df-convert\" onclick=\"convertToInteractive('df-960075b1-09d6-4f55-85e4-0b0554b46b61')\"\n",
              "            title=\"Convert this dataframe to an interactive table.\"\n",
              "            style=\"display:none;\">\n",
              "\n",
              "  <svg xmlns=\"http://www.w3.org/2000/svg\" height=\"24px\" viewBox=\"0 -960 960 960\">\n",
              "    <path d=\"M120-120v-720h720v720H120Zm60-500h600v-160H180v160Zm220 220h160v-160H400v160Zm0 220h160v-160H400v160ZM180-400h160v-160H180v160Zm440 0h160v-160H620v160ZM180-180h160v-160H180v160Zm440 0h160v-160H620v160Z\"/>\n",
              "  </svg>\n",
              "    </button>\n",
              "\n",
              "  <style>\n",
              "    .colab-df-container {\n",
              "      display:flex;\n",
              "      gap: 12px;\n",
              "    }\n",
              "\n",
              "    .colab-df-convert {\n",
              "      background-color: #E8F0FE;\n",
              "      border: none;\n",
              "      border-radius: 50%;\n",
              "      cursor: pointer;\n",
              "      display: none;\n",
              "      fill: #1967D2;\n",
              "      height: 32px;\n",
              "      padding: 0 0 0 0;\n",
              "      width: 32px;\n",
              "    }\n",
              "\n",
              "    .colab-df-convert:hover {\n",
              "      background-color: #E2EBFA;\n",
              "      box-shadow: 0px 1px 2px rgba(60, 64, 67, 0.3), 0px 1px 3px 1px rgba(60, 64, 67, 0.15);\n",
              "      fill: #174EA6;\n",
              "    }\n",
              "\n",
              "    .colab-df-buttons div {\n",
              "      margin-bottom: 4px;\n",
              "    }\n",
              "\n",
              "    [theme=dark] .colab-df-convert {\n",
              "      background-color: #3B4455;\n",
              "      fill: #D2E3FC;\n",
              "    }\n",
              "\n",
              "    [theme=dark] .colab-df-convert:hover {\n",
              "      background-color: #434B5C;\n",
              "      box-shadow: 0px 1px 3px 1px rgba(0, 0, 0, 0.15);\n",
              "      filter: drop-shadow(0px 1px 2px rgba(0, 0, 0, 0.3));\n",
              "      fill: #FFFFFF;\n",
              "    }\n",
              "  </style>\n",
              "\n",
              "    <script>\n",
              "      const buttonEl =\n",
              "        document.querySelector('#df-960075b1-09d6-4f55-85e4-0b0554b46b61 button.colab-df-convert');\n",
              "      buttonEl.style.display =\n",
              "        google.colab.kernel.accessAllowed ? 'block' : 'none';\n",
              "\n",
              "      async function convertToInteractive(key) {\n",
              "        const element = document.querySelector('#df-960075b1-09d6-4f55-85e4-0b0554b46b61');\n",
              "        const dataTable =\n",
              "          await google.colab.kernel.invokeFunction('convertToInteractive',\n",
              "                                                    [key], {});\n",
              "        if (!dataTable) return;\n",
              "\n",
              "        const docLinkHtml = 'Like what you see? Visit the ' +\n",
              "          '<a target=\"_blank\" href=https://colab.research.google.com/notebooks/data_table.ipynb>data table notebook</a>'\n",
              "          + ' to learn more about interactive tables.';\n",
              "        element.innerHTML = '';\n",
              "        dataTable['output_type'] = 'display_data';\n",
              "        await google.colab.output.renderOutput(dataTable, element);\n",
              "        const docLink = document.createElement('div');\n",
              "        docLink.innerHTML = docLinkHtml;\n",
              "        element.appendChild(docLink);\n",
              "      }\n",
              "    </script>\n",
              "  </div>\n",
              "\n",
              "\n",
              "<div id=\"df-952838fb-503f-478f-bcc9-ffd80ba18c4a\">\n",
              "  <button class=\"colab-df-quickchart\" onclick=\"quickchart('df-952838fb-503f-478f-bcc9-ffd80ba18c4a')\"\n",
              "            title=\"Suggest charts\"\n",
              "            style=\"display:none;\">\n",
              "\n",
              "<svg xmlns=\"http://www.w3.org/2000/svg\" height=\"24px\"viewBox=\"0 0 24 24\"\n",
              "     width=\"24px\">\n",
              "    <g>\n",
              "        <path d=\"M19 3H5c-1.1 0-2 .9-2 2v14c0 1.1.9 2 2 2h14c1.1 0 2-.9 2-2V5c0-1.1-.9-2-2-2zM9 17H7v-7h2v7zm4 0h-2V7h2v10zm4 0h-2v-4h2v4z\"/>\n",
              "    </g>\n",
              "</svg>\n",
              "  </button>\n",
              "\n",
              "<style>\n",
              "  .colab-df-quickchart {\n",
              "      --bg-color: #E8F0FE;\n",
              "      --fill-color: #1967D2;\n",
              "      --hover-bg-color: #E2EBFA;\n",
              "      --hover-fill-color: #174EA6;\n",
              "      --disabled-fill-color: #AAA;\n",
              "      --disabled-bg-color: #DDD;\n",
              "  }\n",
              "\n",
              "  [theme=dark] .colab-df-quickchart {\n",
              "      --bg-color: #3B4455;\n",
              "      --fill-color: #D2E3FC;\n",
              "      --hover-bg-color: #434B5C;\n",
              "      --hover-fill-color: #FFFFFF;\n",
              "      --disabled-bg-color: #3B4455;\n",
              "      --disabled-fill-color: #666;\n",
              "  }\n",
              "\n",
              "  .colab-df-quickchart {\n",
              "    background-color: var(--bg-color);\n",
              "    border: none;\n",
              "    border-radius: 50%;\n",
              "    cursor: pointer;\n",
              "    display: none;\n",
              "    fill: var(--fill-color);\n",
              "    height: 32px;\n",
              "    padding: 0;\n",
              "    width: 32px;\n",
              "  }\n",
              "\n",
              "  .colab-df-quickchart:hover {\n",
              "    background-color: var(--hover-bg-color);\n",
              "    box-shadow: 0 1px 2px rgba(60, 64, 67, 0.3), 0 1px 3px 1px rgba(60, 64, 67, 0.15);\n",
              "    fill: var(--button-hover-fill-color);\n",
              "  }\n",
              "\n",
              "  .colab-df-quickchart-complete:disabled,\n",
              "  .colab-df-quickchart-complete:disabled:hover {\n",
              "    background-color: var(--disabled-bg-color);\n",
              "    fill: var(--disabled-fill-color);\n",
              "    box-shadow: none;\n",
              "  }\n",
              "\n",
              "  .colab-df-spinner {\n",
              "    border: 2px solid var(--fill-color);\n",
              "    border-color: transparent;\n",
              "    border-bottom-color: var(--fill-color);\n",
              "    animation:\n",
              "      spin 1s steps(1) infinite;\n",
              "  }\n",
              "\n",
              "  @keyframes spin {\n",
              "    0% {\n",
              "      border-color: transparent;\n",
              "      border-bottom-color: var(--fill-color);\n",
              "      border-left-color: var(--fill-color);\n",
              "    }\n",
              "    20% {\n",
              "      border-color: transparent;\n",
              "      border-left-color: var(--fill-color);\n",
              "      border-top-color: var(--fill-color);\n",
              "    }\n",
              "    30% {\n",
              "      border-color: transparent;\n",
              "      border-left-color: var(--fill-color);\n",
              "      border-top-color: var(--fill-color);\n",
              "      border-right-color: var(--fill-color);\n",
              "    }\n",
              "    40% {\n",
              "      border-color: transparent;\n",
              "      border-right-color: var(--fill-color);\n",
              "      border-top-color: var(--fill-color);\n",
              "    }\n",
              "    60% {\n",
              "      border-color: transparent;\n",
              "      border-right-color: var(--fill-color);\n",
              "    }\n",
              "    80% {\n",
              "      border-color: transparent;\n",
              "      border-right-color: var(--fill-color);\n",
              "      border-bottom-color: var(--fill-color);\n",
              "    }\n",
              "    90% {\n",
              "      border-color: transparent;\n",
              "      border-bottom-color: var(--fill-color);\n",
              "    }\n",
              "  }\n",
              "</style>\n",
              "\n",
              "  <script>\n",
              "    async function quickchart(key) {\n",
              "      const quickchartButtonEl =\n",
              "        document.querySelector('#' + key + ' button');\n",
              "      quickchartButtonEl.disabled = true;  // To prevent multiple clicks.\n",
              "      quickchartButtonEl.classList.add('colab-df-spinner');\n",
              "      try {\n",
              "        const charts = await google.colab.kernel.invokeFunction(\n",
              "            'suggestCharts', [key], {});\n",
              "      } catch (error) {\n",
              "        console.error('Error during call to suggestCharts:', error);\n",
              "      }\n",
              "      quickchartButtonEl.classList.remove('colab-df-spinner');\n",
              "      quickchartButtonEl.classList.add('colab-df-quickchart-complete');\n",
              "    }\n",
              "    (() => {\n",
              "      let quickchartButtonEl =\n",
              "        document.querySelector('#df-952838fb-503f-478f-bcc9-ffd80ba18c4a button');\n",
              "      quickchartButtonEl.style.display =\n",
              "        google.colab.kernel.accessAllowed ? 'block' : 'none';\n",
              "    })();\n",
              "  </script>\n",
              "</div>\n",
              "\n",
              "    </div>\n",
              "  </div>\n"
            ],
            "application/vnd.google.colaboratory.intrinsic+json": {
              "type": "dataframe",
              "variable_name": "XDB",
              "summary": "{\n  \"name\": \"XDB\",\n  \"rows\": 12686,\n  \"fields\": [\n    {\n      \"column\": \"Age\",\n      \"properties\": {\n        \"dtype\": \"number\",\n        \"std\": 2,\n        \"min\": 15,\n        \"max\": 22,\n        \"num_unique_values\": 8,\n        \"samples\": [\n          20,\n          15,\n          21\n        ],\n        \"semantic_type\": \"\",\n        \"description\": \"\"\n      }\n    },\n    {\n      \"column\": \"Urban\",\n      \"properties\": {\n        \"dtype\": \"number\",\n        \"std\": 0.4084647920538207,\n        \"min\": 0.0,\n        \"max\": 1.0,\n        \"num_unique_values\": 2,\n        \"samples\": [\n          0.0,\n          1.0\n        ],\n        \"semantic_type\": \"\",\n        \"description\": \"\"\n      }\n    },\n    {\n      \"column\": \"Mother_Edu\",\n      \"properties\": {\n        \"dtype\": \"number\",\n        \"std\": 3.1693710276940226,\n        \"min\": 0.0,\n        \"max\": 20.0,\n        \"num_unique_values\": 21,\n        \"samples\": [\n          8.0,\n          7.0\n        ],\n        \"semantic_type\": \"\",\n        \"description\": \"\"\n      }\n    },\n    {\n      \"column\": \"Father_Edu\",\n      \"properties\": {\n        \"dtype\": \"number\",\n        \"std\": 3.9302673412117572,\n        \"min\": 0.0,\n        \"max\": 20.0,\n        \"num_unique_values\": 21,\n        \"samples\": [\n          8.0,\n          19.0\n        ],\n        \"semantic_type\": \"\",\n        \"description\": \"\"\n      }\n    },\n    {\n      \"column\": \"FamilySize\",\n      \"properties\": {\n        \"dtype\": \"number\",\n        \"std\": 2,\n        \"min\": 1,\n        \"max\": 15,\n        \"num_unique_values\": 15,\n        \"samples\": [\n          9,\n          12\n        ],\n        \"semantic_type\": \"\",\n        \"description\": \"\"\n      }\n    },\n    {\n      \"column\": \"Self_Esteem\",\n      \"properties\": {\n        \"dtype\": \"number\",\n        \"std\": 4.130287472130511,\n        \"min\": 6.0,\n        \"max\": 30.0,\n        \"num_unique_values\": 25,\n        \"samples\": [\n          21.0,\n          15.0\n        ],\n        \"semantic_type\": \"\",\n        \"description\": \"\"\n      }\n    },\n    {\n      \"column\": \"Height\",\n      \"properties\": {\n        \"dtype\": \"number\",\n        \"std\": 4.065759264553301,\n        \"min\": 48.0,\n        \"max\": 83.0,\n        \"num_unique_values\": 34,\n        \"samples\": [\n          60.0,\n          55.0\n        ],\n        \"semantic_type\": \"\",\n        \"description\": \"\"\n      }\n    },\n    {\n      \"column\": \"Weight\",\n      \"properties\": {\n        \"dtype\": \"number\",\n        \"std\": 29.696504293328157,\n        \"min\": 53.0,\n        \"max\": 375.0,\n        \"num_unique_values\": 181,\n        \"samples\": [\n          114.0,\n          162.0\n        ],\n        \"semantic_type\": \"\",\n        \"description\": \"\"\n      }\n    },\n    {\n      \"column\": \"Income\",\n      \"properties\": {\n        \"dtype\": \"number\",\n        \"std\": 33694.500480920324,\n        \"min\": 0.0,\n        \"max\": 216200.0,\n        \"num_unique_values\": 707,\n        \"samples\": [\n          18200.0,\n          4247.0\n        ],\n        \"semantic_type\": \"\",\n        \"description\": \"\"\n      }\n    }\n  ]\n}"
            }
          },
          "metadata": {},
          "execution_count": 5
        }
      ]
    },
    {
      "cell_type": "code",
      "source": [
        "#Recuento de valores nulos\n",
        "nas=XDB.isna().sum()\n",
        "print(nas)"
      ],
      "metadata": {
        "colab": {
          "base_uri": "https://localhost:8080/"
        },
        "id": "JpDcw3cvAT9F",
        "outputId": "5b2d2e56-4e13-4b8e-a757-ad59dd671de6"
      },
      "execution_count": null,
      "outputs": [
        {
          "output_type": "stream",
          "name": "stdout",
          "text": [
            "Age               0\n",
            "Urban            40\n",
            "Mother_Edu      808\n",
            "Father_Edu     1806\n",
            "FamilySize        0\n",
            "Self_Esteem     694\n",
            "Height          543\n",
            "Weight          554\n",
            "Income         5112\n",
            "dtype: int64\n"
          ]
        }
      ]
    },
    {
      "cell_type": "markdown",
      "source": [
        "***1.2. Número de datos total de la base de datos depurada***\n",
        "\n",
        "*   Elemento de lista\n",
        "*   Elemento de lista\n",
        "\n"
      ],
      "metadata": {
        "id": "HHPZacMLoscM"
      }
    },
    {
      "cell_type": "code",
      "source": [
        "#Se eliminan las filas con un valor faltante\n",
        "XDB = XDB.dropna()\n",
        "\n",
        "total_respondents = len(XDB)\n",
        "\n",
        "print(f\"El número total de personas que respondieron fue: \", len(XDB))"
      ],
      "metadata": {
        "colab": {
          "base_uri": "https://localhost:8080/"
        },
        "id": "Vuq0lC--osIX",
        "outputId": "75bb2a6c-d0a4-4546-e749-0ec6a923cd5f"
      },
      "execution_count": null,
      "outputs": [
        {
          "output_type": "stream",
          "name": "stdout",
          "text": [
            "El número total de personas que respondieron fue:  5948\n"
          ]
        }
      ]
    },
    {
      "cell_type": "markdown",
      "source": [
        "***1.3. Se separan las variables de interés***"
      ],
      "metadata": {
        "id": "p1S-vNGwCKMj"
      }
    },
    {
      "cell_type": "code",
      "source": [
        "#Se separan las variables\n",
        "XD= XDB[['Age', 'Mother_Edu','Father_Edu', 'FamilySize','Self_Esteem','Height','Weight','Income']] #Variable de entrada\n",
        "yd= XDB['Urban'] #Variable de salida\n"
      ],
      "metadata": {
        "id": "GLEAKU5ICNwZ"
      },
      "execution_count": null,
      "outputs": []
    },
    {
      "cell_type": "markdown",
      "source": [
        "***1.4. Porcentaje de los datos que hacen parte de cada una de las categorías de clasificación***"
      ],
      "metadata": {
        "id": "wz6BejDDpt4E"
      }
    },
    {
      "cell_type": "code",
      "source": [
        "# Calcular el porcentaje de cada categoría en \"Urban\"\n",
        "categories = XDB['Urban'].value_counts(normalize=True) * 100\n",
        "\n",
        "# Asignar nombres claros a las categorías\n",
        "categories = categories.rename({1.0: 'Urbano', 0.0: 'Rural'})\n",
        "\n",
        "# Mostrar los resultados con etiquetas\n",
        "print(\"Porcentaje de datos por categoría:\")\n",
        "for category, percentage in categories.items():\n",
        "    print(f\"{category}: {percentage:.2f}%\")"
      ],
      "metadata": {
        "colab": {
          "base_uri": "https://localhost:8080/"
        },
        "id": "pXltLwjj7ga2",
        "outputId": "23e6ae46-5792-47f0-cc06-48c5ae6bbb77"
      },
      "execution_count": null,
      "outputs": [
        {
          "output_type": "stream",
          "name": "stdout",
          "text": [
            "Porcentaje de datos por categoría:\n",
            "Urbano: 79.17%\n",
            "Rural: 20.83%\n"
          ]
        }
      ]
    },
    {
      "cell_type": "markdown",
      "source": [
        "***1.5.Determinación de intervalos en variables de interés***"
      ],
      "metadata": {
        "id": "34jbSvfnDK0u"
      }
    },
    {
      "cell_type": "code",
      "source": [
        "# Determinación de los intervalos de variación\n",
        "print(\"Intervalo de variación de Edad:\", XD['Age'].min(), \"-\", XD['Age'].max())\n",
        "print(\"Intervalo de variación de Altura:\", XD['Height'].min(), \"-\", XD['Height'].max())\n",
        "print(\"Intervalo de variación de Peso:\", XD['Weight'].min(), \"-\", XD['Weight'].max())"
      ],
      "metadata": {
        "colab": {
          "base_uri": "https://localhost:8080/"
        },
        "id": "A-7lC_0IDLHS",
        "outputId": "a257763e-75d9-42e6-997b-fb8b580dcd0a"
      },
      "execution_count": null,
      "outputs": [
        {
          "output_type": "stream",
          "name": "stdout",
          "text": [
            "Intervalo de variación de Edad: 15 - 22\n",
            "Intervalo de variación de Altura: 51.0 - 80.0\n",
            "Intervalo de variación de Peso: 72.0 - 375.0\n"
          ]
        }
      ]
    },
    {
      "cell_type": "markdown",
      "source": [
        "**2. Se procede con la implementación del modelo**"
      ],
      "metadata": {
        "id": "3wahfwajYQD1"
      }
    },
    {
      "cell_type": "code",
      "source": [
        "from sklearn.naive_bayes import GaussianNB\n",
        "\n",
        "mnb=GaussianNB()\n",
        "mnb.fit(XD,yd)\n",
        "\n",
        "#Obtenemos la información del modelo\n",
        "#Media\n",
        "u=mnb.theta_\n",
        "print(\"La media de las variables de la muestra es de:\\n\",u)\n",
        "#Varianza\n",
        "var=mnb.var_\n",
        "print(\"La varianza de la muestra es de:\\n\",var)\n",
        "#Desviación estándar\n",
        "s=np.sqrt(var)\n",
        "print(\"La desviación estándar de la muestra es de:\\n\",s)\n",
        "\n",
        "#Se determinan los límtes superiores e inferiores de las variables analizadas\n",
        "LS=u+s\n",
        "LI=u-s\n",
        "print(\"El límite superior de las variables de la muestra es:\\n\",LS)\n",
        "print(\"El límite inferior de las variables de la muestra es:\\n\",LI)\n",
        "\n"
      ],
      "metadata": {
        "colab": {
          "base_uri": "https://localhost:8080/"
        },
        "id": "ifetHFdvYS8F",
        "outputId": "fcdc817e-d0fb-49bd-eff9-983915b639be"
      },
      "execution_count": null,
      "outputs": [
        {
          "output_type": "stream",
          "name": "stdout",
          "text": [
            "La media de las variables de la muestra es de:\n",
            " [[1.83640032e+01 1.07312349e+01 1.02711864e+01 4.73930589e+00\n",
            "  2.19951574e+01 6.72429379e+01 1.49003228e+02 3.01248854e+04]\n",
            " [1.83618603e+01 1.11613931e+01 1.12331705e+01 4.68103631e+00\n",
            "  2.25744319e+01 6.69116585e+01 1.44750903e+02 3.32736742e+04]]\n",
            "La varianza de la muestra es de:\n",
            " [[6.11377773e+00 9.96419474e+00 1.51194652e+01 6.51406931e+00\n",
            "  1.77789403e+01 1.66650620e+01 9.21039647e+02 1.00161093e+09]\n",
            " [6.11792319e+00 1.15645045e+01 1.69373304e+01 5.96364977e+00\n",
            "  1.76201044e+01 1.76562243e+01 9.01712618e+02 1.30246862e+09]]\n",
            "La desviación estándar de la muestra es de:\n",
            " [[2.47260545e+00 3.15661127e+00 3.88837565e+00 2.55226748e+00\n",
            "  4.21650807e+00 4.08228636e+00 3.03486350e+01 3.16482374e+04]\n",
            " [2.47344359e+00 3.40066236e+00 4.11549881e+00 2.44205851e+00\n",
            "  4.19763081e+00 4.20193102e+00 3.00285301e+01 3.60897302e+04]]\n",
            "El límite superior de las variables de la muestra es:\n",
            " [[2.08366087e+01 1.38878461e+01 1.41595621e+01 7.29157338e+00\n",
            "  2.62116655e+01 7.13252242e+01 1.79351863e+02 6.17731228e+04]\n",
            " [2.08353039e+01 1.45620554e+01 1.53486693e+01 7.12309482e+00\n",
            "  2.67720628e+01 7.11135895e+01 1.74779433e+02 6.93634044e+04]]\n",
            "El límite inferior de las variables de la muestra es:\n",
            " [[ 1.58913978e+01  7.57462359e+00  6.38281079e+00  2.18703841e+00\n",
            "   1.77786493e+01  6.31606515e+01  1.18654593e+02 -1.52335198e+03]\n",
            " [ 1.58884167e+01  7.76073072e+00  7.11767172e+00  2.23897780e+00\n",
            "   1.83768011e+01  6.27097275e+01  1.14722372e+02 -2.81605593e+03]]\n"
          ]
        }
      ]
    },
    {
      "cell_type": "markdown",
      "source": [
        "**3. Evaluamos el desempeño del modelo**"
      ],
      "metadata": {
        "id": "21ZMi2lEdhj_"
      }
    },
    {
      "cell_type": "code",
      "source": [
        "from sklearn.metrics import confusion_matrix\n",
        "\n",
        "#Barrido de los datos\n",
        "ydp=mnb.predict(XD)\n",
        "cm=confusion_matrix(yd,ydp)\n",
        "print(\"La matriz de confusión es:\\n\",cm)\n",
        "\n",
        "VN=cm[0,0];FP=cm[0,1];FN=cm[1,0];VP=cm[1,1]\n",
        "\n",
        "#Métricas de desempeño\n",
        "Exactitud=(VP+VN)/(VP+VN+FP+FN)\n",
        "Sensibilidad=VP/(VP+FN)\n",
        "Especificidad=VN/(VN+FP)\n",
        "Precision=VP/(VP+FP)\n",
        "PrNeg= VN/(VN+FN)\n",
        "TE=(FP+FN)/(VP+VN+FP+FN)\n",
        "\n",
        "print(\"La exactitud del modelo es:\\n\",Exactitud)\n",
        "print(\"La sensibilidad del modelo es:\\n\",Sensibilidad)\n",
        "print(\"La especificidad del modelo es:\\n\",Especificidad)\n",
        "print(\"La precisión del modelo es:\\n\",Precision)\n",
        "print(\"La precisión negativa del modelo es:\\n \",PrNeg)\n",
        "print(\"La tasa de error del modelo es:\\n \",TE)\n"
      ],
      "metadata": {
        "colab": {
          "base_uri": "https://localhost:8080/"
        },
        "id": "M10X-UCxdlRE",
        "outputId": "a61cb91d-1b82-42ce-edbd-739406e71f23"
      },
      "execution_count": null,
      "outputs": [
        {
          "output_type": "stream",
          "name": "stdout",
          "text": [
            "La matriz de confusión es:\n",
            " [[   3 1236]\n",
            " [   8 4701]]\n",
            "La exactitud del modelo es:\n",
            " 0.7908540685944856\n",
            "La sensibilidad del modelo es:\n",
            " 0.9983011255043533\n",
            "La especificidad del modelo es:\n",
            " 0.002421307506053269\n",
            "La precisión del modelo es:\n",
            " 0.7918140474987367\n",
            "La precisión negativa del modelo es:\n",
            "  0.2727272727272727\n",
            "La tasa de error del modelo es:\n",
            "  0.20914593140551446\n"
          ]
        }
      ]
    },
    {
      "cell_type": "markdown",
      "source": [
        "**4. Evaluamos una persona**"
      ],
      "metadata": {
        "id": "e_JaL32XdorV"
      }
    },
    {
      "cell_type": "code",
      "source": [
        "#Evaluamos un solicitannte\n",
        "XDS=[[34,12,15,2,24,69,160,48000]]\n",
        "ydp2=mnb.predict(XDS) #Se obtiene la predicción\n",
        "print(\"La predicción es:\\n \",ydp2)\n",
        "\n",
        "if ydp2==0:\n",
        "  print(\"El solicitante vive en áreas rurales\")\n",
        "if ydp2==1:\n",
        "  print(\"El solicitante vive en áreas urbanas\")"
      ],
      "metadata": {
        "colab": {
          "base_uri": "https://localhost:8080/"
        },
        "id": "gkNosJKddsH8",
        "outputId": "1a3064c8-a460-45bc-c38e-edca13fa87ee"
      },
      "execution_count": null,
      "outputs": [
        {
          "output_type": "stream",
          "name": "stdout",
          "text": [
            "La predicción es:\n",
            "  [1.]\n",
            "El solicitante vive en áreas urbanas\n"
          ]
        },
        {
          "output_type": "stream",
          "name": "stderr",
          "text": [
            "/usr/local/lib/python3.11/dist-packages/sklearn/utils/validation.py:2739: UserWarning: X does not have valid feature names, but GaussianNB was fitted with feature names\n",
            "  warnings.warn(\n"
          ]
        }
      ]
    },
    {
      "cell_type": "markdown",
      "source": [
        "**Respuesta a las preguntas**\n",
        "\n",
        "***¿Cuál es el número de datos total de la base de datos?***\n",
        "\n",
        "El número total de personas que respondieron fue de 12686, pero tras la depuración de la base de datos de aquellos datos nulos, la cantidad de registros en los que se trabajaron fue de 5984\n",
        "\n",
        "***¿Cuál es el porcentaje de los datos que hacen parte de cada una de las categorías de clasificación?***\n",
        "\n",
        "Porcentaje de datos por categoría:\n",
        "- Urbano: 79.17%\n",
        "- Rural: 20.83%\n",
        "\n",
        "***Los intervalos en los que se encuentran la variación de Edad, Altura y Peso son: ***\n",
        "\n",
        "- Intervalo de variación de Edad: 15 - 22\n",
        "- Intervalo de variación de Altura: 51.0 - 80.0\n",
        "- Intervalo de variación de Peso: 72.0 - 375.0\n",
        "\n",
        "***¿Cuál es la exactitud alcanzada por el modelo?***\n",
        "\n",
        "La exactitud alcanzada por el modelo fue de 79.08%\n",
        "\n",
        "***¿Cuál es la tasa de error alcanzada por el modelo?***\n",
        "\n",
        "La tasa de error del modelo fue de 20.91%\n",
        "\n",
        "***¿Cuál es la Sensibilidad alcanzada por el modelo?***\n",
        "\n",
        "La sensibilidad alcanzada por el modelo fue de 99.83%\n",
        "\n",
        "***¿Cuál es la Especificidad alcanzada por el modelo? ***\n",
        "\n",
        "La especificidad del modelo fue de 0.24%\n",
        "\n",
        "***¿Para una persona con las siguientes características ['Age','Mother_Edu','Father_Edu','FamilySize','Self_Esteem','Height','Weight','Income']=[34,12,15,2,24,69,160,48000] indicar si vive en la ciudad o las áreas rurales?***\n",
        "\n",
        "La predicción hecha mediante el modelo es [1.], lo que quiere decir que la persona con esas características vive en la ciudad\n",
        "\n",
        "  "
      ],
      "metadata": {
        "id": "cafur0ttbKjX"
      }
    },
    {
      "cell_type": "markdown",
      "source": [
        "**Análisis de Resultados**\n",
        "\n",
        "Basándonos en los resultados obtenidos con el modelo Naive Bayes aplicado a la base de datos proporcionada, se utilizaron las variables 'Age', 'Mother_Edu', 'Father_Edu', 'FamilySize', 'Self_Esteem', 'Height', 'Weight' e 'Income' para determinar si una persona reside en una zona urbana o rural.\n",
        "\n",
        "Inicialmente, la base de datos contenía 12,686 registros, pero tras eliminar aquellos con información incompleta, se redujo a 5,984 datos válidos para el análisis. Del total, el 79.17% corresponde a personas que viven en áreas urbanas y el 20.83% a quienes residen en zonas rurales.\n",
        "\n",
        "El modelo alcanzó una exactitud del **79.08%,** lo que indica que cerca del 80% de las predicciones fueron acertadas. No obstante, también presentó una tasa de error del **20.91%**, reflejando un porcentaje bastante bajo en el que la clasificación no fue correcta, lo que refuerza la validez del modeloe.\n",
        "\n",
        "Por otro lado, en términos de sensibilidad, el modelo obtuvo un desempeño sobresaliente con un **99.83%**, evidenciando una gran capacidad para identificar correctamente a las personas que residen en zonas urbanas. Sin embargo, es importante anotar que la especificidad fue extremadamente baja (0.24%), lo que puede indicar dificultades al momento de predecir con precisión quienes habitan en áreas rurales.\n",
        "\n",
        "Finalmente,  la precisión del modelo fue del **79.18%**, lo que significa que la mayoría de las veces predice correctamente la residencia en zonas urbanas. Sin embargo, la precisión negativa fue baja **(27.27%)**, lo que resalta una deficiencia en la identificación de personas que viven en áreas rurales."
      ],
      "metadata": {
        "id": "eebTq8AW1Ry3"
      }
    }
  ]
}