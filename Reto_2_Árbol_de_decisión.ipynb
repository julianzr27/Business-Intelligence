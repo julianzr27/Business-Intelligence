{
  "nbformat": 4,
  "nbformat_minor": 0,
  "metadata": {
    "colab": {
      "provenance": [],
      "authorship_tag": "ABX9TyPNcmMXmIcoPuVHK9FVj0rF",
      "include_colab_link": true
    },
    "kernelspec": {
      "name": "python3",
      "display_name": "Python 3"
    },
    "language_info": {
      "name": "python"
    }
  },
  "cells": [
    {
      "cell_type": "markdown",
      "metadata": {
        "id": "view-in-github",
        "colab_type": "text"
      },
      "source": [
        "<a href=\"https://colab.research.google.com/github/julianzr27/Business-Intelligence/blob/main/Reto_2_%C3%81rbol_de_decisi%C3%B3n.ipynb\" target=\"_parent\"><img src=\"https://colab.research.google.com/assets/colab-badge.svg\" alt=\"Open In Colab\"/></a>"
      ]
    },
    {
      "cell_type": "markdown",
      "source": [
        "# **Reto 2- Árboles de decisión**"
      ],
      "metadata": {
        "id": "xoL8N2mVHShC"
      }
    },
    {
      "cell_type": "markdown",
      "source": [
        "**Descripción de los datos**\n",
        "\n",
        "De acuerdo con la base de datos de admisión universitaria, esta posee un total de 1528 registros de estudiantes, divididos en 1303 admitidos y 225 no admitidos. Cada uno de los solicitantes de admisión está descrito en función de 7 variables socioeconómicas:\n",
        "\n",
        "- Edu_Parent1: Nivel educativo alcanzado por el primer padre o tutor.\n",
        "- Edu_Parent2: Nivel educativo alcanzado por el segundo padre o tutor.\n",
        "- Gender: Género del estudiante, representado numéricamente como 0 = Femenino, 1 = Masculino.\n",
        "- White: Variable categórica que indica si el estudiante se identifica como blanco (1 = Sí, 0 = No).\n",
        "- Asian: Variable categórica que indica si el estudiante se identifica como asiático (1 = Sí, 0 = No).\n",
        "- HSGPA: Promedio de calificaciones del estudiante en la escuela secundaria.\n",
        "- SAT/ACT: Puntaje obtenido en los exámenes estandarizados SAT o ACT.\n",
        "- Admitted: Indica si el estudiante fue admitido en la universidad (1 = Sí, 0 = No).\n",
        "\n",
        "El análisis se centrará en estas variables para predecir la probabilidad de admisión mediante un modelo basado en árboles de decisión."
      ],
      "metadata": {
        "id": "mEtROiL-Np8L"
      }
    },
    {
      "cell_type": "markdown",
      "source": [
        "0. Se proceden a cargar las librerías"
      ],
      "metadata": {
        "id": "7M_oE1tdHTeo"
      }
    },
    {
      "cell_type": "code",
      "execution_count": null,
      "metadata": {
        "colab": {
          "base_uri": "https://localhost:8080/"
        },
        "id": "H6PcxpdXGVdj",
        "outputId": "4d75ffb7-84d2-44cf-abed-dcb7bc3f1b45"
      },
      "outputs": [
        {
          "output_type": "stream",
          "name": "stdout",
          "text": [
            "Mounted at /content/drive\n"
          ]
        }
      ],
      "source": [
        "import numpy as np\n",
        "import pandas as pd\n",
        "\n",
        "#Librerías del árbol\n",
        "from  sklearn import tree\n",
        "from sklearn.tree import DecisionTreeClassifier\n",
        "from sklearn.metrics import confusion_matrix\n",
        "\n",
        "#Conectar al Drive\n",
        "from google.colab import drive\n",
        "drive.mount('/content/drive')"
      ]
    },
    {
      "cell_type": "markdown",
      "source": [
        "1. Se procede con la carga de datos"
      ],
      "metadata": {
        "id": "T0IEgpBcH7W8"
      }
    },
    {
      "cell_type": "code",
      "source": [
        "nxl =\"/content/drive/MyDrive/2. CollegeAdmisions_Int_M.xlsx\"\n",
        "XDB = pd.read_excel(nxl, sheet_name=0)\n",
        "XDB=XDB.dropna()\n",
        "XDB.head(100)"
      ],
      "metadata": {
        "colab": {
          "base_uri": "https://localhost:8080/",
          "height": 424
        },
        "id": "AKDAOaJ8H92T",
        "outputId": "148a99df-389b-4676-a14b-3ee8570e5f71"
      },
      "execution_count": null,
      "outputs": [
        {
          "output_type": "execute_result",
          "data": {
            "text/plain": [
              "     Applicant  Edu_Parent1  Edu_Parent2 Gender  White  Asian  HSGPA  SAT/ACT  \\\n",
              "6            7            6            6      F      1      0   4.26     1430   \n",
              "28          29            7            6      M      1      0   3.95     1340   \n",
              "46          47            3            6      M      1      0   4.33     1200   \n",
              "61          62            7            7      F      1      0   4.27     1530   \n",
              "65          66            6            7      F      0      0   4.04     1270   \n",
              "..         ...          ...          ...    ...    ...    ...    ...      ...   \n",
              "552        553            7            5      F      1      0   4.17     1190   \n",
              "555        556            6            4      F      0      0   3.62     1180   \n",
              "558        559            4            7      F      1      0   3.91     1190   \n",
              "564        565            6            4      F      1      0   4.35     1210   \n",
              "566        567            5            6      F      0      0   3.95     1110   \n",
              "\n",
              "                  College Admitted Enrolled  College_GPA  \n",
              "6          Math & Science      Yes      Yes        3.956  \n",
              "28         Math & Science      Yes      Yes        3.361  \n",
              "46   Business & Economics       No      Yes        3.433  \n",
              "61   Business & Economics       No      Yes        3.890  \n",
              "65         Math & Science      Yes      Yes        3.025  \n",
              "..                    ...      ...      ...          ...  \n",
              "552        Arts & Letters       No      Yes        3.788  \n",
              "555        Math & Science      Yes      Yes        3.230  \n",
              "558        Arts & Letters      Yes      Yes        2.686  \n",
              "564        Math & Science      Yes      Yes        3.830  \n",
              "566        Arts & Letters      Yes      Yes        3.036  \n",
              "\n",
              "[100 rows x 12 columns]"
            ],
            "text/html": [
              "\n",
              "  <div id=\"df-789cf844-f026-4edc-9d24-7d72e639a79a\" class=\"colab-df-container\">\n",
              "    <div>\n",
              "<style scoped>\n",
              "    .dataframe tbody tr th:only-of-type {\n",
              "        vertical-align: middle;\n",
              "    }\n",
              "\n",
              "    .dataframe tbody tr th {\n",
              "        vertical-align: top;\n",
              "    }\n",
              "\n",
              "    .dataframe thead th {\n",
              "        text-align: right;\n",
              "    }\n",
              "</style>\n",
              "<table border=\"1\" class=\"dataframe\">\n",
              "  <thead>\n",
              "    <tr style=\"text-align: right;\">\n",
              "      <th></th>\n",
              "      <th>Applicant</th>\n",
              "      <th>Edu_Parent1</th>\n",
              "      <th>Edu_Parent2</th>\n",
              "      <th>Gender</th>\n",
              "      <th>White</th>\n",
              "      <th>Asian</th>\n",
              "      <th>HSGPA</th>\n",
              "      <th>SAT/ACT</th>\n",
              "      <th>College</th>\n",
              "      <th>Admitted</th>\n",
              "      <th>Enrolled</th>\n",
              "      <th>College_GPA</th>\n",
              "    </tr>\n",
              "  </thead>\n",
              "  <tbody>\n",
              "    <tr>\n",
              "      <th>6</th>\n",
              "      <td>7</td>\n",
              "      <td>6</td>\n",
              "      <td>6</td>\n",
              "      <td>F</td>\n",
              "      <td>1</td>\n",
              "      <td>0</td>\n",
              "      <td>4.26</td>\n",
              "      <td>1430</td>\n",
              "      <td>Math &amp; Science</td>\n",
              "      <td>Yes</td>\n",
              "      <td>Yes</td>\n",
              "      <td>3.956</td>\n",
              "    </tr>\n",
              "    <tr>\n",
              "      <th>28</th>\n",
              "      <td>29</td>\n",
              "      <td>7</td>\n",
              "      <td>6</td>\n",
              "      <td>M</td>\n",
              "      <td>1</td>\n",
              "      <td>0</td>\n",
              "      <td>3.95</td>\n",
              "      <td>1340</td>\n",
              "      <td>Math &amp; Science</td>\n",
              "      <td>Yes</td>\n",
              "      <td>Yes</td>\n",
              "      <td>3.361</td>\n",
              "    </tr>\n",
              "    <tr>\n",
              "      <th>46</th>\n",
              "      <td>47</td>\n",
              "      <td>3</td>\n",
              "      <td>6</td>\n",
              "      <td>M</td>\n",
              "      <td>1</td>\n",
              "      <td>0</td>\n",
              "      <td>4.33</td>\n",
              "      <td>1200</td>\n",
              "      <td>Business &amp; Economics</td>\n",
              "      <td>No</td>\n",
              "      <td>Yes</td>\n",
              "      <td>3.433</td>\n",
              "    </tr>\n",
              "    <tr>\n",
              "      <th>61</th>\n",
              "      <td>62</td>\n",
              "      <td>7</td>\n",
              "      <td>7</td>\n",
              "      <td>F</td>\n",
              "      <td>1</td>\n",
              "      <td>0</td>\n",
              "      <td>4.27</td>\n",
              "      <td>1530</td>\n",
              "      <td>Business &amp; Economics</td>\n",
              "      <td>No</td>\n",
              "      <td>Yes</td>\n",
              "      <td>3.890</td>\n",
              "    </tr>\n",
              "    <tr>\n",
              "      <th>65</th>\n",
              "      <td>66</td>\n",
              "      <td>6</td>\n",
              "      <td>7</td>\n",
              "      <td>F</td>\n",
              "      <td>0</td>\n",
              "      <td>0</td>\n",
              "      <td>4.04</td>\n",
              "      <td>1270</td>\n",
              "      <td>Math &amp; Science</td>\n",
              "      <td>Yes</td>\n",
              "      <td>Yes</td>\n",
              "      <td>3.025</td>\n",
              "    </tr>\n",
              "    <tr>\n",
              "      <th>...</th>\n",
              "      <td>...</td>\n",
              "      <td>...</td>\n",
              "      <td>...</td>\n",
              "      <td>...</td>\n",
              "      <td>...</td>\n",
              "      <td>...</td>\n",
              "      <td>...</td>\n",
              "      <td>...</td>\n",
              "      <td>...</td>\n",
              "      <td>...</td>\n",
              "      <td>...</td>\n",
              "      <td>...</td>\n",
              "    </tr>\n",
              "    <tr>\n",
              "      <th>552</th>\n",
              "      <td>553</td>\n",
              "      <td>7</td>\n",
              "      <td>5</td>\n",
              "      <td>F</td>\n",
              "      <td>1</td>\n",
              "      <td>0</td>\n",
              "      <td>4.17</td>\n",
              "      <td>1190</td>\n",
              "      <td>Arts &amp; Letters</td>\n",
              "      <td>No</td>\n",
              "      <td>Yes</td>\n",
              "      <td>3.788</td>\n",
              "    </tr>\n",
              "    <tr>\n",
              "      <th>555</th>\n",
              "      <td>556</td>\n",
              "      <td>6</td>\n",
              "      <td>4</td>\n",
              "      <td>F</td>\n",
              "      <td>0</td>\n",
              "      <td>0</td>\n",
              "      <td>3.62</td>\n",
              "      <td>1180</td>\n",
              "      <td>Math &amp; Science</td>\n",
              "      <td>Yes</td>\n",
              "      <td>Yes</td>\n",
              "      <td>3.230</td>\n",
              "    </tr>\n",
              "    <tr>\n",
              "      <th>558</th>\n",
              "      <td>559</td>\n",
              "      <td>4</td>\n",
              "      <td>7</td>\n",
              "      <td>F</td>\n",
              "      <td>1</td>\n",
              "      <td>0</td>\n",
              "      <td>3.91</td>\n",
              "      <td>1190</td>\n",
              "      <td>Arts &amp; Letters</td>\n",
              "      <td>Yes</td>\n",
              "      <td>Yes</td>\n",
              "      <td>2.686</td>\n",
              "    </tr>\n",
              "    <tr>\n",
              "      <th>564</th>\n",
              "      <td>565</td>\n",
              "      <td>6</td>\n",
              "      <td>4</td>\n",
              "      <td>F</td>\n",
              "      <td>1</td>\n",
              "      <td>0</td>\n",
              "      <td>4.35</td>\n",
              "      <td>1210</td>\n",
              "      <td>Math &amp; Science</td>\n",
              "      <td>Yes</td>\n",
              "      <td>Yes</td>\n",
              "      <td>3.830</td>\n",
              "    </tr>\n",
              "    <tr>\n",
              "      <th>566</th>\n",
              "      <td>567</td>\n",
              "      <td>5</td>\n",
              "      <td>6</td>\n",
              "      <td>F</td>\n",
              "      <td>0</td>\n",
              "      <td>0</td>\n",
              "      <td>3.95</td>\n",
              "      <td>1110</td>\n",
              "      <td>Arts &amp; Letters</td>\n",
              "      <td>Yes</td>\n",
              "      <td>Yes</td>\n",
              "      <td>3.036</td>\n",
              "    </tr>\n",
              "  </tbody>\n",
              "</table>\n",
              "<p>100 rows × 12 columns</p>\n",
              "</div>\n",
              "    <div class=\"colab-df-buttons\">\n",
              "\n",
              "  <div class=\"colab-df-container\">\n",
              "    <button class=\"colab-df-convert\" onclick=\"convertToInteractive('df-789cf844-f026-4edc-9d24-7d72e639a79a')\"\n",
              "            title=\"Convert this dataframe to an interactive table.\"\n",
              "            style=\"display:none;\">\n",
              "\n",
              "  <svg xmlns=\"http://www.w3.org/2000/svg\" height=\"24px\" viewBox=\"0 -960 960 960\">\n",
              "    <path d=\"M120-120v-720h720v720H120Zm60-500h600v-160H180v160Zm220 220h160v-160H400v160Zm0 220h160v-160H400v160ZM180-400h160v-160H180v160Zm440 0h160v-160H620v160ZM180-180h160v-160H180v160Zm440 0h160v-160H620v160Z\"/>\n",
              "  </svg>\n",
              "    </button>\n",
              "\n",
              "  <style>\n",
              "    .colab-df-container {\n",
              "      display:flex;\n",
              "      gap: 12px;\n",
              "    }\n",
              "\n",
              "    .colab-df-convert {\n",
              "      background-color: #E8F0FE;\n",
              "      border: none;\n",
              "      border-radius: 50%;\n",
              "      cursor: pointer;\n",
              "      display: none;\n",
              "      fill: #1967D2;\n",
              "      height: 32px;\n",
              "      padding: 0 0 0 0;\n",
              "      width: 32px;\n",
              "    }\n",
              "\n",
              "    .colab-df-convert:hover {\n",
              "      background-color: #E2EBFA;\n",
              "      box-shadow: 0px 1px 2px rgba(60, 64, 67, 0.3), 0px 1px 3px 1px rgba(60, 64, 67, 0.15);\n",
              "      fill: #174EA6;\n",
              "    }\n",
              "\n",
              "    .colab-df-buttons div {\n",
              "      margin-bottom: 4px;\n",
              "    }\n",
              "\n",
              "    [theme=dark] .colab-df-convert {\n",
              "      background-color: #3B4455;\n",
              "      fill: #D2E3FC;\n",
              "    }\n",
              "\n",
              "    [theme=dark] .colab-df-convert:hover {\n",
              "      background-color: #434B5C;\n",
              "      box-shadow: 0px 1px 3px 1px rgba(0, 0, 0, 0.15);\n",
              "      filter: drop-shadow(0px 1px 2px rgba(0, 0, 0, 0.3));\n",
              "      fill: #FFFFFF;\n",
              "    }\n",
              "  </style>\n",
              "\n",
              "    <script>\n",
              "      const buttonEl =\n",
              "        document.querySelector('#df-789cf844-f026-4edc-9d24-7d72e639a79a button.colab-df-convert');\n",
              "      buttonEl.style.display =\n",
              "        google.colab.kernel.accessAllowed ? 'block' : 'none';\n",
              "\n",
              "      async function convertToInteractive(key) {\n",
              "        const element = document.querySelector('#df-789cf844-f026-4edc-9d24-7d72e639a79a');\n",
              "        const dataTable =\n",
              "          await google.colab.kernel.invokeFunction('convertToInteractive',\n",
              "                                                    [key], {});\n",
              "        if (!dataTable) return;\n",
              "\n",
              "        const docLinkHtml = 'Like what you see? Visit the ' +\n",
              "          '<a target=\"_blank\" href=https://colab.research.google.com/notebooks/data_table.ipynb>data table notebook</a>'\n",
              "          + ' to learn more about interactive tables.';\n",
              "        element.innerHTML = '';\n",
              "        dataTable['output_type'] = 'display_data';\n",
              "        await google.colab.output.renderOutput(dataTable, element);\n",
              "        const docLink = document.createElement('div');\n",
              "        docLink.innerHTML = docLinkHtml;\n",
              "        element.appendChild(docLink);\n",
              "      }\n",
              "    </script>\n",
              "  </div>\n",
              "\n",
              "\n",
              "<div id=\"df-18a6b42c-5604-4e54-ae44-a8ca0204b754\">\n",
              "  <button class=\"colab-df-quickchart\" onclick=\"quickchart('df-18a6b42c-5604-4e54-ae44-a8ca0204b754')\"\n",
              "            title=\"Suggest charts\"\n",
              "            style=\"display:none;\">\n",
              "\n",
              "<svg xmlns=\"http://www.w3.org/2000/svg\" height=\"24px\"viewBox=\"0 0 24 24\"\n",
              "     width=\"24px\">\n",
              "    <g>\n",
              "        <path d=\"M19 3H5c-1.1 0-2 .9-2 2v14c0 1.1.9 2 2 2h14c1.1 0 2-.9 2-2V5c0-1.1-.9-2-2-2zM9 17H7v-7h2v7zm4 0h-2V7h2v10zm4 0h-2v-4h2v4z\"/>\n",
              "    </g>\n",
              "</svg>\n",
              "  </button>\n",
              "\n",
              "<style>\n",
              "  .colab-df-quickchart {\n",
              "      --bg-color: #E8F0FE;\n",
              "      --fill-color: #1967D2;\n",
              "      --hover-bg-color: #E2EBFA;\n",
              "      --hover-fill-color: #174EA6;\n",
              "      --disabled-fill-color: #AAA;\n",
              "      --disabled-bg-color: #DDD;\n",
              "  }\n",
              "\n",
              "  [theme=dark] .colab-df-quickchart {\n",
              "      --bg-color: #3B4455;\n",
              "      --fill-color: #D2E3FC;\n",
              "      --hover-bg-color: #434B5C;\n",
              "      --hover-fill-color: #FFFFFF;\n",
              "      --disabled-bg-color: #3B4455;\n",
              "      --disabled-fill-color: #666;\n",
              "  }\n",
              "\n",
              "  .colab-df-quickchart {\n",
              "    background-color: var(--bg-color);\n",
              "    border: none;\n",
              "    border-radius: 50%;\n",
              "    cursor: pointer;\n",
              "    display: none;\n",
              "    fill: var(--fill-color);\n",
              "    height: 32px;\n",
              "    padding: 0;\n",
              "    width: 32px;\n",
              "  }\n",
              "\n",
              "  .colab-df-quickchart:hover {\n",
              "    background-color: var(--hover-bg-color);\n",
              "    box-shadow: 0 1px 2px rgba(60, 64, 67, 0.3), 0 1px 3px 1px rgba(60, 64, 67, 0.15);\n",
              "    fill: var(--button-hover-fill-color);\n",
              "  }\n",
              "\n",
              "  .colab-df-quickchart-complete:disabled,\n",
              "  .colab-df-quickchart-complete:disabled:hover {\n",
              "    background-color: var(--disabled-bg-color);\n",
              "    fill: var(--disabled-fill-color);\n",
              "    box-shadow: none;\n",
              "  }\n",
              "\n",
              "  .colab-df-spinner {\n",
              "    border: 2px solid var(--fill-color);\n",
              "    border-color: transparent;\n",
              "    border-bottom-color: var(--fill-color);\n",
              "    animation:\n",
              "      spin 1s steps(1) infinite;\n",
              "  }\n",
              "\n",
              "  @keyframes spin {\n",
              "    0% {\n",
              "      border-color: transparent;\n",
              "      border-bottom-color: var(--fill-color);\n",
              "      border-left-color: var(--fill-color);\n",
              "    }\n",
              "    20% {\n",
              "      border-color: transparent;\n",
              "      border-left-color: var(--fill-color);\n",
              "      border-top-color: var(--fill-color);\n",
              "    }\n",
              "    30% {\n",
              "      border-color: transparent;\n",
              "      border-left-color: var(--fill-color);\n",
              "      border-top-color: var(--fill-color);\n",
              "      border-right-color: var(--fill-color);\n",
              "    }\n",
              "    40% {\n",
              "      border-color: transparent;\n",
              "      border-right-color: var(--fill-color);\n",
              "      border-top-color: var(--fill-color);\n",
              "    }\n",
              "    60% {\n",
              "      border-color: transparent;\n",
              "      border-right-color: var(--fill-color);\n",
              "    }\n",
              "    80% {\n",
              "      border-color: transparent;\n",
              "      border-right-color: var(--fill-color);\n",
              "      border-bottom-color: var(--fill-color);\n",
              "    }\n",
              "    90% {\n",
              "      border-color: transparent;\n",
              "      border-bottom-color: var(--fill-color);\n",
              "    }\n",
              "  }\n",
              "</style>\n",
              "\n",
              "  <script>\n",
              "    async function quickchart(key) {\n",
              "      const quickchartButtonEl =\n",
              "        document.querySelector('#' + key + ' button');\n",
              "      quickchartButtonEl.disabled = true;  // To prevent multiple clicks.\n",
              "      quickchartButtonEl.classList.add('colab-df-spinner');\n",
              "      try {\n",
              "        const charts = await google.colab.kernel.invokeFunction(\n",
              "            'suggestCharts', [key], {});\n",
              "      } catch (error) {\n",
              "        console.error('Error during call to suggestCharts:', error);\n",
              "      }\n",
              "      quickchartButtonEl.classList.remove('colab-df-spinner');\n",
              "      quickchartButtonEl.classList.add('colab-df-quickchart-complete');\n",
              "    }\n",
              "    (() => {\n",
              "      let quickchartButtonEl =\n",
              "        document.querySelector('#df-18a6b42c-5604-4e54-ae44-a8ca0204b754 button');\n",
              "      quickchartButtonEl.style.display =\n",
              "        google.colab.kernel.accessAllowed ? 'block' : 'none';\n",
              "    })();\n",
              "  </script>\n",
              "</div>\n",
              "\n",
              "    </div>\n",
              "  </div>\n"
            ],
            "application/vnd.google.colaboratory.intrinsic+json": {
              "type": "dataframe",
              "variable_name": "XDB",
              "summary": "{\n  \"name\": \"XDB\",\n  \"rows\": 1528,\n  \"fields\": [\n    {\n      \"column\": \"Applicant\",\n      \"properties\": {\n        \"dtype\": \"number\",\n        \"std\": 4901,\n        \"min\": 7,\n        \"max\": 17338,\n        \"num_unique_values\": 1528,\n        \"samples\": [\n          3001,\n          442,\n          11002\n        ],\n        \"semantic_type\": \"\",\n        \"description\": \"\"\n      }\n    },\n    {\n      \"column\": \"Edu_Parent1\",\n      \"properties\": {\n        \"dtype\": \"number\",\n        \"std\": 1,\n        \"min\": 1,\n        \"max\": 7,\n        \"num_unique_values\": 7,\n        \"samples\": [\n          6,\n          7,\n          1\n        ],\n        \"semantic_type\": \"\",\n        \"description\": \"\"\n      }\n    },\n    {\n      \"column\": \"Edu_Parent2\",\n      \"properties\": {\n        \"dtype\": \"number\",\n        \"std\": 1,\n        \"min\": 1,\n        \"max\": 7,\n        \"num_unique_values\": 7,\n        \"samples\": [\n          6,\n          7,\n          1\n        ],\n        \"semantic_type\": \"\",\n        \"description\": \"\"\n      }\n    },\n    {\n      \"column\": \"Gender\",\n      \"properties\": {\n        \"dtype\": \"category\",\n        \"num_unique_values\": 2,\n        \"samples\": [\n          \"M\",\n          \"F\"\n        ],\n        \"semantic_type\": \"\",\n        \"description\": \"\"\n      }\n    },\n    {\n      \"column\": \"White\",\n      \"properties\": {\n        \"dtype\": \"number\",\n        \"std\": 0,\n        \"min\": 0,\n        \"max\": 1,\n        \"num_unique_values\": 2,\n        \"samples\": [\n          0,\n          1\n        ],\n        \"semantic_type\": \"\",\n        \"description\": \"\"\n      }\n    },\n    {\n      \"column\": \"Asian\",\n      \"properties\": {\n        \"dtype\": \"number\",\n        \"std\": 0,\n        \"min\": 0,\n        \"max\": 1,\n        \"num_unique_values\": 2,\n        \"samples\": [\n          1,\n          0\n        ],\n        \"semantic_type\": \"\",\n        \"description\": \"\"\n      }\n    },\n    {\n      \"column\": \"HSGPA\",\n      \"properties\": {\n        \"dtype\": \"number\",\n        \"std\": 0.3288797169512249,\n        \"min\": 2.43,\n        \"max\": 4.42,\n        \"num_unique_values\": 148,\n        \"samples\": [\n          3.16,\n          3.78\n        ],\n        \"semantic_type\": \"\",\n        \"description\": \"\"\n      }\n    },\n    {\n      \"column\": \"SAT/ACT\",\n      \"properties\": {\n        \"dtype\": \"number\",\n        \"std\": 126,\n        \"min\": 840,\n        \"max\": 1570,\n        \"num_unique_values\": 73,\n        \"samples\": [\n          1270,\n          880\n        ],\n        \"semantic_type\": \"\",\n        \"description\": \"\"\n      }\n    },\n    {\n      \"column\": \"College\",\n      \"properties\": {\n        \"dtype\": \"category\",\n        \"num_unique_values\": 3,\n        \"samples\": [\n          \"Math & Science\",\n          \"Business & Economics\"\n        ],\n        \"semantic_type\": \"\",\n        \"description\": \"\"\n      }\n    },\n    {\n      \"column\": \"Admitted\",\n      \"properties\": {\n        \"dtype\": \"category\",\n        \"num_unique_values\": 2,\n        \"samples\": [\n          \"No\",\n          \"Yes\"\n        ],\n        \"semantic_type\": \"\",\n        \"description\": \"\"\n      }\n    },\n    {\n      \"column\": \"Enrolled\",\n      \"properties\": {\n        \"dtype\": \"category\",\n        \"num_unique_values\": 1,\n        \"samples\": [\n          \"Yes\"\n        ],\n        \"semantic_type\": \"\",\n        \"description\": \"\"\n      }\n    },\n    {\n      \"column\": \"College_GPA\",\n      \"properties\": {\n        \"dtype\": \"number\",\n        \"std\": 0.5135177801576729,\n        \"min\": 0.364,\n        \"max\": 4.0,\n        \"num_unique_values\": 1015,\n        \"samples\": [\n          3.963\n        ],\n        \"semantic_type\": \"\",\n        \"description\": \"\"\n      }\n    }\n  ]\n}"
            }
          },
          "metadata": {},
          "execution_count": 2
        }
      ]
    },
    {
      "cell_type": "markdown",
      "source": [
        "1.1. Se seleccionan las variables de interés"
      ],
      "metadata": {
        "id": "s_5gXXSAKJtJ"
      }
    },
    {
      "cell_type": "code",
      "source": [
        "# Convertir la variable Gender a numérica (F:0, M:1)\n",
        "XDB[\"Gender\"] = XDB[\"Gender\"].map({\"F\": 0, \"M\": 1})\n",
        "\n",
        "# Seleccionar las variables\n",
        "XD = XDB[['Edu_Parent1', 'Edu_Parent2', 'Gender', 'White', 'Asian', 'HSGPA', 'SAT/ACT']]\n",
        "yd = XDB[['Admitted']]\n"
      ],
      "metadata": {
        "id": "QVmRyfpsIcm5"
      },
      "execution_count": null,
      "outputs": []
    },
    {
      "cell_type": "markdown",
      "source": [
        "1.2. Se determinan el número de personas que fueron admitidas a la Universidad"
      ],
      "metadata": {
        "id": "dMUqe5q3Quzr"
      }
    },
    {
      "cell_type": "code",
      "source": [
        "# Convertir 'Yes' a 1 y 'No' a 0\n",
        "XDB[\"Admitted\"] = XDB[\"Admitted\"].map({\"Yes\": 1, \"No\": 0})\n",
        "\n",
        "# Ahora sí, contar los admitidos\n",
        "num_admitidos = XDB[\"Admitted\"].sum()\n",
        "print(f\"Número de personas admitidas: {num_admitidos}\")\n"
      ],
      "metadata": {
        "colab": {
          "base_uri": "https://localhost:8080/"
        },
        "id": "xgLFZjBrQuB0",
        "outputId": "780d84d5-d5ec-4d7e-e38e-fdd339e068bb"
      },
      "execution_count": null,
      "outputs": [
        {
          "output_type": "stream",
          "name": "stdout",
          "text": [
            "Número de personas admitidas: 1303\n"
          ]
        }
      ]
    },
    {
      "cell_type": "markdown",
      "source": [
        "2. Se procede con la implementación del modelo"
      ],
      "metadata": {
        "id": "egasD98IKF1r"
      }
    },
    {
      "cell_type": "code",
      "source": [
        "mar=DecisionTreeClassifier(criterion='gini', max_depth=4)\n",
        "mar.fit(XD,yd)\n",
        "\n",
        "#Se procede con la gráfica\n",
        "from pydotplus import graph_from_dot_data\n",
        "from sklearn.tree import export_graphviz\n",
        "\n",
        "ve=['Edu_Parent1', 'Edu_Parent2', 'Gender', 'White', 'Asian', 'HSGPA', 'SAT/ACT']\n",
        "dot_data=export_graphviz(mar, feature_names=ve)\n",
        "graph=graph_from_dot_data(dot_data)\n",
        "graph.write_png('ArbolDecision.png')"
      ],
      "metadata": {
        "colab": {
          "base_uri": "https://localhost:8080/"
        },
        "id": "7AO8hbfWKNRZ",
        "outputId": "52878662-bf5b-422d-f27b-27ddc0c80be1"
      },
      "execution_count": null,
      "outputs": [
        {
          "output_type": "execute_result",
          "data": {
            "text/plain": [
              "True"
            ]
          },
          "metadata": {},
          "execution_count": 5
        }
      ]
    },
    {
      "cell_type": "markdown",
      "source": [
        "2.1. Se determina el número de nodos puros para el árbol asociado con la estructura del modelo."
      ],
      "metadata": {
        "id": "XGGgmFNQRq8b"
      }
    },
    {
      "cell_type": "code",
      "source": [
        "num_nodos_puros = sum(mar.tree_.impurity == 0)\n",
        "print(f\"Número de nodos puros en el árbol (Gini = 0.0): {num_nodos_puros}\")"
      ],
      "metadata": {
        "colab": {
          "base_uri": "https://localhost:8080/"
        },
        "id": "5H_mz07nRrJM",
        "outputId": "fcd9122f-890c-4380-d146-83035aad34de"
      },
      "execution_count": null,
      "outputs": [
        {
          "output_type": "stream",
          "name": "stdout",
          "text": [
            "Número de nodos puros en el árbol (Gini = 0.0): 7\n"
          ]
        }
      ]
    },
    {
      "cell_type": "markdown",
      "source": [
        "3. Se procede con el pronóstico de los solicitantes que no fueron admitidos\n",
        "\n",
        "\n"
      ],
      "metadata": {
        "id": "zRyrX52kMtFL"
      }
    },
    {
      "cell_type": "code",
      "source": [
        "# Cargar la hoja de pronóstico\n",
        "XDB0 = pd.read_excel(nxl, sheet_name=1)\n",
        "\n",
        "# Convertir Gender a numérico\n",
        "XDB0[\"Gender\"] = XDB0[\"Gender\"].map({\"F\": 0, \"M\": 1})\n",
        "\n",
        "# Crear la base de datos para pronóstico\n",
        "XD0 = XDB0[['Edu_Parent1', 'Edu_Parent2', 'Gender', 'White', 'Asian', 'HSGPA', 'SAT/ACT']]\n",
        "yd0 = XDB0[['Admitted']]\n",
        "\n",
        "# Mantener todos los solicitantes\n",
        "filas = XDB0.index\n",
        "\n",
        "# Hacer la predicción\n",
        "y_pred = mar.predict(XD0)\n",
        "\n",
        "# Crear el informe en Excel\n",
        "df = pd.DataFrame(XD0)\n",
        "df[\"Admitted_Predicted\"] = y_pred\n",
        "df.insert(0, \"Solicitante\", filas)  # Agregar índice de solicitantes\n",
        "\n",
        "# Guardar en Excel\n",
        "df.to_excel(\"Pronostico_Solicitantes_No_Admitidos.xlsx\", index=False)"
      ],
      "metadata": {
        "id": "LkRsL37iPgFq"
      },
      "execution_count": null,
      "outputs": []
    },
    {
      "cell_type": "markdown",
      "source": [
        "4. Evaluar el comportamiento del modelo"
      ],
      "metadata": {
        "id": "OllTtByZNfQ7"
      }
    },
    {
      "cell_type": "code",
      "source": [
        "ydp=mar.predict(XD) #pronóstico base de datos original\n",
        "cm=confusion_matrix(yd,ydp)\n",
        "print(\"La matriz de confusión es: \\n\",cm)\n",
        "\n",
        "VN= cm[0,0];FP= cm[0,1];VT= cm[1,0];VP= cm[1,1]\n",
        "\n",
        "#Métricas de desempeño\n",
        "Ex= (VP+VN)/(VP+VN+FP+VT) #Exactitud: comportamiento general preaprobando\n",
        "print(\"La exactitud del modelo es:\\n \",Ex)\n",
        "\n",
        "TE= (FP+VT)/(VP+VN+FP+VT) #Tasa de error: comportamiento general no preaprobando\n",
        "print(\"La tasa de error del modelo es:\\n \",TE)\n",
        "\n",
        "Se= VP/(VP+VT) #Sensibilidad: Comportamiento correcto preaprobando\n",
        "print(\"La sensibilidad del modelo es:\\n \",Se)\n",
        "\n",
        "Sp= VN/(VN+FP) #Especificidad: Comportamiento correcto no preaprobado\n",
        "print(\"La especificidad del modelo es:\\n \",Sp)\n",
        "\n",
        "Pr=VP/(VP+FP) #Precisión\n",
        "print(\"La precisión del modelo es:\\n \",Pr)\n",
        "\n",
        "Neg= VN/(VN+VT) #Precisión negativa: comportamiento correcto no preaprobado\n",
        "print(\"La precisión negativa del modelo es:\\n \",Neg)"
      ],
      "metadata": {
        "colab": {
          "base_uri": "https://localhost:8080/"
        },
        "id": "TnaNlgbINfsz",
        "outputId": "e6ac5f22-26b0-4c49-af23-e960941ec195"
      },
      "execution_count": null,
      "outputs": [
        {
          "output_type": "stream",
          "name": "stdout",
          "text": [
            "La matriz de confusión es: \n",
            " [[  20  205]\n",
            " [   2 1301]]\n",
            "La exactitud del modelo es:\n",
            "  0.8645287958115183\n",
            "La tasa de error del modelo es:\n",
            "  0.1354712041884817\n",
            "La sensibilidad del modelo es:\n",
            "  0.9984650805832693\n",
            "La especificidad del modelo es:\n",
            "  0.08888888888888889\n",
            "La precisión del modelo es:\n",
            "  0.8638778220451527\n",
            "La precisión negativa del modelo es:\n",
            "  0.9090909090909091\n"
          ]
        }
      ]
    },
    {
      "cell_type": "markdown",
      "source": [
        "**Análisis de Resultados**\n",
        "\n",
        "El modelo de árbol de decisión aplicado a la base de datos de 1528 datos sobre admisión universitaria mostró un desempeño sólido en la clasificación de los solicitantes.\n",
        "\n",
        "La matriz de confusión refleja un alto número de verdaderos positivos (1301) y verdaderos negativos (20), mientras que los falsos positivos (205) y falsos negativos (2) son significativamente menores. Esto indica que el modelo tiene un buen desempeño en la identificación de estudiantes admitidos, aunque su capacidad para detectar correctamente a los no admitidos es baja.\n",
        "\n",
        "Por otro lado, la exactitud del modelo es del 86.45%, lo que significa que en aproximadamente 8 de cada 10 casos, la predicción del modelo es correcta. Sin embargo, la tasa de error del 13.54% sugiere que aún hay margen de mejora.\n",
        "\n",
        "Un aspecto ambién relevante es la sensibilidad, que alcanza un valor de 99.84%, demostrando que el modelo es altamente eficiente para predecir correctamente a los estudiantes admitidos. En contraste, la especificidad es de apenas 8.89%, lo que indica que la capacidad del modelo para detectar correctamente a los estudiantes no admitidos es baja.\n",
        "\n",
        "En cuanto a la precisión, se obtuvo un 86.39%, lo que confirma que el modelo es confiable al predecir la admisión de un estudiante. Sin embargo, la precisión negativa (90.90%) sugiere que, aunque pocos estudiantes son clasificados erróneamente como admitidos, la baja especificidad puede afectar su utilidad en escenarios donde es crucial identificar correctamente a los no admitidos.\n",
        "\n",
        "A partir de lo anterior, podemos concluir que el modelo presenta un desempeño destacado en la clasificación de estudiantes admitidos, pero su baja especificidad indica que no distingue con la misma eficacia a los rechazados, lo que sugiere que podría llegar a mejorarse si se ajustan ciertos parámetros y si se consideran otras técnicas de balanceo de datos para así mejorar la detección de los no admitidos sin afectar la sensibilidad del modelo."
      ],
      "metadata": {
        "id": "aNy6hLl6NtFT"
      }
    }
  ]
}